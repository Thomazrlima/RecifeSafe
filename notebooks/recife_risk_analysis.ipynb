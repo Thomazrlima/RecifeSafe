{
 "cells": [
  {
   "cell_type": "markdown",
   "id": "3e9436b9",
   "metadata": {},
   "source": [
    "# Recife — Análise Inicial de Risco de Alagamento e Deslizamento\n",
    "Este notebook contém um pipeline inicial com dados fictícios para: carregamento, limpeza, análise exploratória (EDA), regressão simples, classificação binária (risco alto/baixo) e um esboço de dashboard interativo com Streamlit.\n",
    "print(tide_df.head())print('tide_df sample:')---\n",
    "')"
   ]
  },
  {
   "cell_type": "code",
   "execution_count": null,
   "id": "214222a0",
   "metadata": {},
   "outputs": [],
   "source": [
    "# Importação das bibliotecas padrão\n",
    "import numpy as np\n",
    "import pandas as pd\n",
    "import matplotlib.pyplot as plt\n",
    "import seaborn as sns\n",
    "from sklearn.model_selection import train_test_split\n",
    "from sklearn.linear_model import LinearRegression, LogisticRegression\n",
    "from sklearn.metrics import (accuracy_score, precision_score, recall_score, f1_score,\n",
    "                             confusion_matrix, roc_curve, roc_auc_score, precision_recall_curve)\n",
    "\n",
    "# Visual settings\n",
    "%matplotlib inline\n",
    "sns.set(style=\"whitegrid\")\n",
    "plt.rcParams['figure.figsize'] = (10, 6)"
   ]
  },
  {
   "cell_type": "markdown",
   "id": "e100afd4",
   "metadata": {},
   "source": [
    "## 1) Geração e carregamento de bases fictícias\n",
    "Geramos `rain_df`, `tide_df` e `vuln_df` com estrutura semelhante ao real."
   ]
  },
  {
   "cell_type": "code",
   "execution_count": null,
   "id": "d16fc54d",
   "metadata": {},
   "outputs": [],
   "source": [
    "neighborhoods = ['Boa Viagem','Espinheiro','Casa Amarela','Ibura','Várzea','Santo Amaro','Centro','Aflitos','Pina','Cordeiro']\n",
    "date_rng = pd.date_range(start='2024-04-01', end='2024-04-07', freq='6H')\n",
    "\n",
    "def gen_series(base, scale, size, seed=None):\n",
    "    rng = np.random.default_rng(seed)\n",
    "    return np.maximum(0, base + rng.normal(scale=scale, size=size))\n",
    "\n",
    "rows = []\n",
    "for nb in neighborhoods:\n",
    "    for dt in date_rng:\n",
    "        rows.append({'date': dt, 'neighborhood': nb, 'rain_mm': float(gen_series(base=10 if nb in ['Ibura','Várzea','Pina'] else 3, scale=8, size=1)[0])})\n",
    "rain_df = pd.DataFrame(rows)\n",
    "\n",
    "rows = []\n",
    "for nb in neighborhoods:\n",
    "    for dt in date_rng:\n",
    "        base = 120 if nb in ['Boa Viagem','Pina','Aflitos'] else 60\n",
    "        rows.append({'date': dt, 'neighborhood': nb, 'tide_cm': float(gen_series(base=base, scale=40, size=1)[0])})\n",
    "tide_df = pd.DataFrame(rows)\n",
    "\n",
    "vuln_scores = {'Boa Viagem':0.3,'Espinheiro':0.4,'Casa Amarela':0.6,'Ibura':0.8,'Várzea':0.9,'Santo Amaro':0.5,'Centro':0.7,'Aflitos':0.35,'Pina':0.65,'Cordeiro':0.55}\n",
    "vuln_df = pd.DataFrame([{'neighborhood':k,'vuln_index':v} for k,v in vuln_scores.items()])\n",
    "\n",
    "print('rain_df sample:')\n",
    "print(rain_df.head())\n",
    "print('\n",
    "---\n",
    "')\n",
    "print('tide_df sample:')\n",
    "print(tide_df.head())\n",
    "print('\n",
    "---\n",
    "')\n",
    "print('vuln_df:')\n",
    "print(vuln_df.head())"
   ]
  },
  {
   "cell_type": "markdown",
   "id": "27791384",
   "metadata": {},
   "source": [
    "## 2) Limpeza e preparação básica\n",
    "Padronizamos datas, juntamos as bases por `date`+`neighborhood`, tratamos ausentes e montamos um `risk_index` heurístico."
   ]
  },
  {
   "cell_type": "code",
   "execution_count": null,
   "id": "606ec6ba",
   "metadata": {},
   "outputs": [],
   "source": [
    "rain_df['date'] = pd.to_datetime(rain_df['date'])\n",
    "tide_df['date'] = pd.to_datetime(tide_df['date'])\n",
    "df = pd.merge(rain_df, tide_df, on=['date','neighborhood'], how='outer')\n",
    "df = pd.merge(df, vuln_df, on='neighborhood', how='left')\n",
    "\n",
    "df['rain_mm'] = df.groupby('neighborhood')['rain_mm'].apply(lambda x: x.fillna(x.median()))\n",
    "df['tide_cm'] = df.groupby('neighborhood')['tide_cm'].apply(lambda x: x.fillna(x.median()))\n",
    "df['vuln_index'] = df['vuln_index'].fillna(df['vuln_index'].median())\n",
    "\n",
    "df['rain_norm'] = df['rain_mm'] / df['rain_mm'].max()\n",
    "df['tide_norm'] = df['tide_cm'] / df['tide_cm'].max()\n",
    "df['vuln_norm'] = df['vuln_index']\n",
    "df['risk_index'] = 0.5*df['rain_norm'] + 0.3*df['tide_norm'] + 0.2*df['vuln_norm']\n",
    "df['risk_label'] = (df['risk_index'] > 0.5).astype(int)\n",
    "\n",
    "df.head()"
   ]
  },
  {
   "cell_type": "markdown",
   "id": "ff406155",
   "metadata": {},
   "source": [
    "## 3) Análise Exploratória (EDA)\n",
    "Histograma da chuva, boxplot de maré por bairro e mapa de calor de correlações."
   ]
  },
  {
   "cell_type": "code",
   "execution_count": null,
   "id": "b50fe75f",
   "metadata": {},
   "outputs": [],
   "source": [
    "plt.figure(figsize=(10,5))\n",
    "sns.histplot(df['rain_mm'], bins=30, kde=True, color='blue')\n",
    "plt.title('Distribuição da chuva (mm)')\n",
    "plt.xlabel('mm de chuva')\n",
    "plt.ylabel('contagem')\n",
    "plt.show()\n",
    "\n",
    "plt.figure(figsize=(12,6))\n",
    "order = df.groupby('neighborhood')['tide_cm'].median().sort_values().index\n",
    "sns.boxplot(data=df, x='neighborhood', y='tide_cm', order=order)\n",
    "plt.xticks(rotation=45)\n",
    "plt.title('Boxplot: maré (cm) por bairro')\n",
    "plt.show()\n",
    "\n",
    "corr_df = df[['rain_mm','tide_cm','vuln_index','risk_index']].corr()\n",
    "plt.figure(figsize=(8,6))\n",
    "sns.heatmap(corr_df, annot=True, cmap='coolwarm', fmt='.2f')\n",
    "plt.title('Mapa de calor: correlação entre variáveis')\n",
    "plt.show()"
   ]
  },
  {
   "cell_type": "markdown",
   "id": "915ec231",
   "metadata": {},
   "source": [
    "## 4) Regressão linear simples: chuva -> risk_index\n",
    "Regressão linear, scatter com linha de tendência e análise de resíduos."
   ]
  },
  {
   "cell_type": "code",
   "execution_count": null,
   "id": "295e2dcb",
   "metadata": {},
   "outputs": [],
   "source": [
    "X = df[['rain_mm']].values\n",
    "y = df['risk_index'].values\n",
    "X_train, X_test, y_train, y_test = train_test_split(X, y, test_size=0.2, random_state=42)\n",
    "lr = LinearRegression()\n",
    "lr.fit(X_train, y_train)\n",
    "y_pred = lr.predict(X_test)\n",
    "\n",
    "plt.figure(figsize=(8,6))\n",
    "plt.scatter(X_test, y_test, label='observado', alpha=0.6)\n",
    "xs = np.linspace(X.min(), X.max(), 100).reshape(-1,1)\n",
    "plt.plot(xs, lr.predict(xs), color='red', label='linha tendência')\n",
    "plt.xlabel('rain_mm')\n",
    "plt.ylabel('risk_index')\n",
    "plt.legend()\n",
    "plt.title('Regressão linear: chuva -> risk_index')\n",
    "plt.show()\n",
    "\n",
    "residuals = y_test - y_pred\n",
    "plt.figure(figsize=(8,4))\n",
    "sns.histplot(residuals, kde=True)\n",
    "plt.title('Distribuição dos resíduos')\n",
    "plt.show()\n",
    "\n",
    "print('Coeficiente (slope):', lr.coef_[0])\n",
    "print('Intercept:', lr.intercept_)\n",
    "print('R^2 (treino):', lr.score(X_train, y_train))\n",
    "print('R^2 (teste):', lr.score(X_test, y_test))"
   ]
  },
  {
   "cell_type": "markdown",
   "id": "963cfe80",
   "metadata": {},
   "source": [
    "## 5) Classificação simples\n",
    "LogisticRegression para classificar risco alto vs baixo; mostramos matriz de confusão, métricas e curvas ROC/PR."
   ]
  },
  {
   "cell_type": "code",
   "execution_count": null,
   "id": "89cd495b",
   "metadata": {},
   "outputs": [],
   "source": [
    "features = ['rain_mm','tide_cm','vuln_index']\n",
    "X = df[features].values\n",
    "y = df['risk_label'].values\n",
    "X_train, X_test, y_train, y_test = train_test_split(X, y, test_size=0.25, random_state=123)\n",
    "clf = LogisticRegression(max_iter=1000)\n",
    "clf.fit(X_train, y_train)\n",
    "y_pred = clf.predict(X_test)\n",
    "y_proba = clf.predict_proba(X_test)[:,1]\n",
    "\n",
    "cm = confusion_matrix(y_test, y_pred)\n",
    "acc = accuracy_score(y_test, y_pred)\n",
    "prec = precision_score(y_test, y_pred, zero_division=0)\n",
    "rec = recall_score(y_test, y_pred, zero_division=0)\n",
    "f1 = f1_score(y_test, y_pred, zero_division=0)\n",
    "\n",
    "print('Confusion matrix:\n",
    "', cm)\n",
    "print(f'Accuracy: {acc:.3f}, Precision: {prec:.3f}, Recall: {rec:.3f}, F1: {f1:.3f}')\n",
    "\n",
    "fpr, tpr, _ = roc_curve(y_test, y_proba)\n",
    "auc = roc_auc_score(y_test, y_proba)\n",
    "plt.figure(figsize=(6,5))\n",
    "plt.plot(fpr, tpr, label=f'ROC (AUC = {auc:.2f})')\n",
    "plt.plot([0,1],[0,1],'k--')\n",
    "plt.xlabel('False Positive Rate')\n",
    "plt.ylabel('True Positive Rate')\n",
    "plt.title('ROC Curve')\n",
    "plt.legend()\n",
    "plt.show()\n",
    "\n",
    "prec_vals, rec_vals, _ = precision_recall_curve(y_test, y_proba)\n",
    "plt.figure(figsize=(6,5))\n",
    "plt.plot(rec_vals, prec_vals)\n",
    "plt.xlabel('Recall')\n",
    "plt.ylabel('Precision')\n",
    "plt.title('Precision-Recall Curve')\n",
    "plt.show()"
   ]
  },
  {
   "cell_type": "markdown",
   "id": "85aa748e",
   "metadata": {},
   "source": [
    "## 6) Esboço de dashboard Streamlit\n",
    "Exemplo de script (salvar como `app.py`). Instruções e próximos passos estão no final do notebook."
   ]
  },
  {
   "cell_type": "code",
   "execution_count": null,
   "id": "ffe056a2",
   "metadata": {},
   "outputs": [],
   "source": [
    "streamlit_example = '''\n",
    "import streamlit as st\n",
    "import pandas as pd\n",
    "import altair as alt\n",
    "\n",
    "st.title('Recife — Painel de Risco: Alagamento e Deslizamento')\n",
    "st.sidebar.header('Filtros')\n",
    "neighborhood = st.sidebar.selectbox('Selecione o bairro', options=df['neighborhood'].unique())\n",
    "var = st.sidebar.selectbox('Escolha a variável', options=['rain_mm','tide_cm','vuln_index','risk_index'])\n",
    "df_nb = df[df['neighborhood'] == neighborhood].sort_values('date')\n",
    "chart = alt.Chart(df_nb).mark_line().encode(x='date:T', y=alt.Y(var+':Q'), tooltip=['date','rain_mm','tide_cm','vuln_index','risk_index']).properties(width=700, height=350)\n",
    "st.altair_chart(chart)\n",
    "'''"
   ]
  },
  {
   "cell_type": "markdown",
   "id": "82c33d99",
   "metadata": {},
   "source": [
    "## Comentários finais e próximos passos\n",
    "- Melhorias: janelas temporais para chuva, normalização por bairro, features adicionais (uso do solo, drenagem), validação com eventos reais e deploy no Streamlit Cloud.\n",
    "- Entregáveis: notebook, `app.py` streamlit, README com plano do dashboard."
   ]
  }
 ],
 "metadata": {
  "language_info": {
   "name": "python"
  }
 },
 "nbformat": 4,
 "nbformat_minor": 5
}
